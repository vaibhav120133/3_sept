{
 "cells": [
  {
   "cell_type": "code",
   "execution_count": 2,
   "id": "a1061c4d-5546-4e76-af89-3fcd15a2d697",
   "metadata": {},
   "outputs": [
    {
     "name": "stdin",
     "output_type": "stream",
     "text": [
      "enter a no.: -5\n"
     ]
    },
    {
     "name": "stdout",
     "output_type": "stream",
     "text": [
      "negative \n"
     ]
    }
   ],
   "source": [
    "#1\n",
    "u=int(input(\"enter a no.:\"))\n",
    "if u<0:\n",
    "    print(\"negative \")\n",
    "else:\n",
    "    print(\"positive\")"
   ]
  },
  {
   "cell_type": "code",
   "execution_count": 3,
   "id": "f07f155f-83a0-4dfd-9ea3-3536444d1ae7",
   "metadata": {},
   "outputs": [
    {
     "name": "stdin",
     "output_type": "stream",
     "text": [
      "enter a no.: 18\n"
     ]
    },
    {
     "name": "stdout",
     "output_type": "stream",
     "text": [
      "eligible\n"
     ]
    }
   ],
   "source": [
    "#2\n",
    "u=int(input(\"enter a no.:\"))\n",
    "if u<18:\n",
    "    print(\"not eligible \")\n",
    "else:\n",
    "    print(\"eligible\")"
   ]
  },
  {
   "cell_type": "code",
   "execution_count": 4,
   "id": "b3f3bf8f-34f0-4ff8-a1cd-eae19df98b9c",
   "metadata": {},
   "outputs": [
    {
     "name": "stdin",
     "output_type": "stream",
     "text": [
      "enter a no.: 55\n",
      "enter a no.: 25\n"
     ]
    },
    {
     "name": "stdout",
     "output_type": "stream",
     "text": [
      "55\n"
     ]
    }
   ],
   "source": [
    "#3\n",
    "u=int(input(\"enter a no.:\"))\n",
    "v=int(input(\"enter a no.:\"))\n",
    "if u<v:\n",
    "    print(v)\n",
    "else:\n",
    "    print(u)"
   ]
  },
  {
   "cell_type": "code",
   "execution_count": 5,
   "id": "62faa20c-c773-4275-8e10-f118d984e914",
   "metadata": {},
   "outputs": [
    {
     "name": "stdin",
     "output_type": "stream",
     "text": [
      "enter a no.: 2002\n"
     ]
    },
    {
     "name": "stdout",
     "output_type": "stream",
     "text": [
      "not\n"
     ]
    }
   ],
   "source": [
    "#4\n",
    "u=int(input(\"enter a no.:\"))\n",
    "if u//4==0:\n",
    "    print(\"leap year \")\n",
    "else:\n",
    "    print(\"not\")"
   ]
  },
  {
   "cell_type": "code",
   "execution_count": 8,
   "id": "0db6f6db-ab12-4b65-b38c-102cd77eefed",
   "metadata": {},
   "outputs": [
    {
     "name": "stdin",
     "output_type": "stream",
     "text": [
      "enter a no.: yhyty\n"
     ]
    },
    {
     "name": "stdout",
     "output_type": "stream",
     "text": [
      "consonant\n"
     ]
    }
   ],
   "source": [
    "#5\n",
    "u=input(\"enter a no.:\")\n",
    "if u in \"aioue\":\n",
    "    print(\"vowel \")\n",
    "else:\n",
    "    print(\"consonant\")"
   ]
  },
  {
   "cell_type": "code",
   "execution_count": 9,
   "id": "4a5de183-ba41-4563-9a84-a8bbe628fb68",
   "metadata": {},
   "outputs": [
    {
     "name": "stdin",
     "output_type": "stream",
     "text": [
      "enter a no.: 55\n"
     ]
    },
    {
     "name": "stdout",
     "output_type": "stream",
     "text": [
      "odd\n"
     ]
    }
   ],
   "source": [
    "#6\n",
    "u=int(input(\"enter a no.:\"))\n",
    "if u//2==0:\n",
    "    print(\"even \")\n",
    "else:\n",
    "    print(\"odd\")"
   ]
  },
  {
   "cell_type": "code",
   "execution_count": 2,
   "id": "5e16cee3-ea8b-4355-bc5f-1c942b56c4e3",
   "metadata": {},
   "outputs": [
    {
     "name": "stdin",
     "output_type": "stream",
     "text": [
      "enter a value 6\n"
     ]
    },
    {
     "name": "stdout",
     "output_type": "stream",
     "text": [
      "The absolute value of 6 is 6\n"
     ]
    }
   ],
   "source": [
    "#7\n",
    "def absolute_value(num):\n",
    "    if num < 0:\n",
    "        return -num\n",
    "    else:\n",
    "        return num\n",
    "\n",
    "# Test the function\n",
    "num = int(input(\"enter a value\"))\n",
    "result = absolute_value(num)\n",
    "print(f\"The absolute value of {num} is {result}\")\n"
   ]
  },
  {
   "cell_type": "code",
   "execution_count": 3,
   "id": "c808f2f8-e9de-4859-ad8b-b4e3e8550a81",
   "metadata": {},
   "outputs": [
    {
     "name": "stdin",
     "output_type": "stream",
     "text": [
      "Enter the first number:  5\n",
      "Enter the second number:  6\n",
      "Enter the third number:  8\n"
     ]
    },
    {
     "name": "stdout",
     "output_type": "stream",
     "text": [
      "The largest number among 5.0, 6.0, and 8.0 is 8.0.\n"
     ]
    }
   ],
   "source": [
    "#8\n",
    "# Input three numbers\n",
    "num1 = float(input(\"Enter the first number: \"))\n",
    "num2 = float(input(\"Enter the second number: \"))\n",
    "num3 = float(input(\"Enter the third number: \"))\n",
    "\n",
    "# Determine the largest number\n",
    "if num1 >= num2 and num1 >= num3:\n",
    "    largest = num1\n",
    "elif num2 >= num1 and num2 >= num3:\n",
    "    largest = num2\n",
    "else:\n",
    "    largest = num3\n",
    "\n",
    "# Display the result\n",
    "print(f\"The largest number among {num1}, {num2}, and {num3} is {largest}.\")\n"
   ]
  },
  {
   "cell_type": "code",
   "execution_count": 4,
   "id": "df3f2fd6-43af-4341-bdd0-7b3ba506c86d",
   "metadata": {},
   "outputs": [
    {
     "name": "stdin",
     "output_type": "stream",
     "text": [
      "Enter a string:  fhfgj\n"
     ]
    },
    {
     "name": "stdout",
     "output_type": "stream",
     "text": [
      "'fhfgj' is not a palindrome.\n"
     ]
    }
   ],
   "source": [
    "#9\n",
    "def is_palindrome(input_string):\n",
    "    # Remove spaces and convert to lowercase for case-insensitive comparison\n",
    "    clean_string = ''.join(input_string.split()).lower()\n",
    "    \n",
    "    # Check if the clean string is equal to its reverse\n",
    "    return clean_string == clean_string[::-1]\n",
    "\n",
    "# Input a string from the user\n",
    "input_string = input(\"Enter a string: \")\n",
    "\n",
    "if is_palindrome(input_string):\n",
    "    print(f\"'{input_string}' is a palindrome.\")\n",
    "else:\n",
    "    print(f\"'{input_string}' is not a palindrome.\")\n"
   ]
  },
  {
   "cell_type": "code",
   "execution_count": 5,
   "id": "e4abf698-bd1b-4021-b1ff-840aed5a9821",
   "metadata": {},
   "outputs": [
    {
     "name": "stdin",
     "output_type": "stream",
     "text": [
      "Enter the student's score:  88\n"
     ]
    },
    {
     "name": "stdout",
     "output_type": "stream",
     "text": [
      "The student's grade is: B\n"
     ]
    }
   ],
   "source": [
    "#10\n",
    "def calculate_grade(score):\n",
    "    if 90 <= score <= 100:\n",
    "        return 'A'\n",
    "    elif 80 <= score < 90:\n",
    "        return 'B'\n",
    "    elif 70 <= score < 80:\n",
    "        return 'C'\n",
    "    elif 60 <= score < 70:\n",
    "        return 'D'\n",
    "    else:\n",
    "        return 'F'\n",
    "\n",
    "# Input the student's score\n",
    "score = float(input(\"Enter the student's score: \"))\n",
    "\n",
    "if 0 <= score <= 100:\n",
    "    grade = calculate_grade(score)\n",
    "    print(f\"The student's grade is: {grade}\")\n",
    "else:\n",
    "    print(\"Invalid score. Please enter a score between 0 and 100.\")\n"
   ]
  },
  {
   "cell_type": "code",
   "execution_count": 6,
   "id": "c2d48f2d-90e8-4e79-997a-9af2426f5269",
   "metadata": {},
   "outputs": [
    {
     "name": "stdin",
     "output_type": "stream",
     "text": [
      "Enter the first number:  5\n",
      "Enter the second number:  6\n",
      "Enter the third number:  8\n"
     ]
    },
    {
     "name": "stdout",
     "output_type": "stream",
     "text": [
      "The largest number among 5.0, 6.0, and 8.0 is 8.0.\n"
     ]
    }
   ],
   "source": [
    "#11\n",
    "# Input three numbers\n",
    "num1 = float(input(\"Enter the first number: \"))\n",
    "num2 = float(input(\"Enter the second number: \"))\n",
    "num3 = float(input(\"Enter the third number: \"))\n",
    "\n",
    "# Find the largest number using nested if-else statements\n",
    "if num1 >= num2:\n",
    "    if num1 >= num3:\n",
    "        largest = num1\n",
    "    else:\n",
    "        largest = num3\n",
    "else:\n",
    "    if num2 >= num3:\n",
    "        largest = num2\n",
    "    else:\n",
    "        largest = num3\n",
    "\n",
    "# Display the result\n",
    "print(f\"The largest number among {num1}, {num2}, and {num3} is {largest}.\")\n"
   ]
  },
  {
   "cell_type": "code",
   "execution_count": 7,
   "id": "b707867c-5814-43c6-ae57-8d0aa32ef346",
   "metadata": {},
   "outputs": [
    {
     "name": "stdin",
     "output_type": "stream",
     "text": [
      "Enter the length of the first side:  55\n",
      "Enter the length of the second side:  96\n",
      "Enter the length of the third side:  88\n"
     ]
    },
    {
     "name": "stdout",
     "output_type": "stream",
     "text": [
      "The triangle is a Scalene triangle.\n"
     ]
    }
   ],
   "source": [
    "#12\n",
    "# Input the lengths of the three sides of the triangle\n",
    "side1 = float(input(\"Enter the length of the first side: \"))\n",
    "side2 = float(input(\"Enter the length of the second side: \"))\n",
    "side3 = float(input(\"Enter the length of the third side: \"))\n",
    "\n",
    "# Check the type of triangle\n",
    "if side1 == side2 == side3:\n",
    "    triangle_type = \"Equilateral\"\n",
    "elif side1 == side2 or side1 == side3 or side2 == side3:\n",
    "    triangle_type = \"Isosceles\"\n",
    "else:\n",
    "    triangle_type = \"Scalene\"\n",
    "\n",
    "# Display the result\n",
    "print(f\"The triangle is a {triangle_type} triangle.\")\n"
   ]
  },
  {
   "cell_type": "code",
   "execution_count": 8,
   "id": "b35f3d0c-4b5a-446a-8b9e-ef6a0fd28c9f",
   "metadata": {},
   "outputs": [
    {
     "name": "stdin",
     "output_type": "stream",
     "text": [
      "Enter a year:  1259\n"
     ]
    },
    {
     "name": "stdout",
     "output_type": "stream",
     "text": [
      "1259 is neither a leap year nor a century year.\n"
     ]
    }
   ],
   "source": [
    "#13\n",
    "# Input a year from the user\n",
    "year = int(input(\"Enter a year: \"))\n",
    "\n",
    "# Check if it's a leap year\n",
    "is_leap_year = (year % 4 == 0 and year % 100 != 0) or (year % 400 == 0)\n",
    "\n",
    "# Check if it's a century year\n",
    "is_century_year = year % 100 == 0\n",
    "\n",
    "# Determine and display the results\n",
    "if is_leap_year and is_century_year:\n",
    "    print(f\"{year} is a leap year and a century year.\")\n",
    "elif is_leap_year:\n",
    "    print(f\"{year} is a leap year but not a century year.\")\n",
    "elif is_century_year:\n",
    "    print(f\"{year} is a century year but not a leap year.\")\n",
    "else:\n",
    "    print(f\"{year} is neither a leap year nor a century year.\")\n"
   ]
  },
  {
   "cell_type": "code",
   "execution_count": 9,
   "id": "4eb856e5-7e50-4ab8-b69d-5d67d93d8034",
   "metadata": {},
   "outputs": [
    {
     "name": "stdin",
     "output_type": "stream",
     "text": [
      "Enter a number:  455\n"
     ]
    },
    {
     "name": "stdout",
     "output_type": "stream",
     "text": [
      "The number is positive.\n"
     ]
    }
   ],
   "source": [
    "#14\n",
    "# Input a number from the user\n",
    "number = float(input(\"Enter a number: \"))\n",
    "\n",
    "# Check if the number is positive, negative, or zero\n",
    "if number > 0:\n",
    "    print(\"The number is positive.\")\n",
    "elif number < 0:\n",
    "    print(\"The number is negative.\")\n",
    "else:\n",
    "    print(\"The number is zero.\")\n"
   ]
  },
  {
   "cell_type": "code",
   "execution_count": 10,
   "id": "019a3a2b-b183-4f7c-be78-976946074860",
   "metadata": {},
   "outputs": [
    {
     "name": "stdin",
     "output_type": "stream",
     "text": [
      "Enter the person's age:  18\n"
     ]
    },
    {
     "name": "stdout",
     "output_type": "stream",
     "text": [
      "The person is a teenager.\n"
     ]
    }
   ],
   "source": [
    "#15\n",
    "# Input the person's age\n",
    "age = int(input(\"Enter the person's age: \"))\n",
    "\n",
    "# Check if the age falls within the teenager range\n",
    "if 13 <= age <= 19:\n",
    "    print(\"The person is a teenager.\")\n",
    "else:\n",
    "    print(\"The person is not a teenager.\")\n"
   ]
  },
  {
   "cell_type": "code",
   "execution_count": 12,
   "id": "b3865f5f-e4d6-47c3-9455-e6625fe0c5a0",
   "metadata": {},
   "outputs": [
    {
     "name": "stdin",
     "output_type": "stream",
     "text": [
      "Enter the angle's measure in degrees:  55\n"
     ]
    },
    {
     "name": "stdout",
     "output_type": "stream",
     "text": [
      "The angle is an Acute angle.\n"
     ]
    }
   ],
   "source": [
    "#16\n",
    "# Input the angle's measure\n",
    "angle = float(input(\"Enter the angle's measure in degrees: \"))\n",
    "\n",
    "# Determine the type of angle\n",
    "if angle < 90:\n",
    "    angle_type = \"Acute\"\n",
    "elif angle == 90:\n",
    "    angle_type = \"Right\"\n",
    "elif angle > 90 and angle < 180:\n",
    "    angle_type = \"Obtuse\"\n",
    "else:\n",
    "    angle_type = \"Reflex\"\n",
    "\n",
    "# Display the result\n",
    "print(f\"The angle is an {angle_type} angle.\")\n"
   ]
  },
  {
   "cell_type": "code",
   "execution_count": 13,
   "id": "40131627-7267-4991-9890-3f9d4960a4a0",
   "metadata": {},
   "outputs": [
    {
     "name": "stdin",
     "output_type": "stream",
     "text": [
      "Enter the coefficient 'a':  5\n",
      "Enter the coefficient 'b':  6\n",
      "Enter the coefficient 'c':  3\n"
     ]
    },
    {
     "name": "stdout",
     "output_type": "stream",
     "text": [
      "The roots are complex: -0.6 + 0.4898979485566356i and -0.6 - 0.4898979485566356i\n"
     ]
    }
   ],
   "source": [
    "#17\n",
    "import math\n",
    "\n",
    "# Input the coefficients of the quadratic equation\n",
    "a = float(input(\"Enter the coefficient 'a': \"))\n",
    "b = float(input(\"Enter the coefficient 'b': \"))\n",
    "c = float(input(\"Enter the coefficient 'c': \"))\n",
    "\n",
    "# Calculate the discriminant\n",
    "discriminant = b**2 - 4*a*c\n",
    "\n",
    "# Check the discriminant to determine the type of roots\n",
    "if discriminant > 0:\n",
    "    # Two real and distinct roots\n",
    "    root1 = (-b + math.sqrt(discriminant)) / (2*a)\n",
    "    root2 = (-b - math.sqrt(discriminant)) / (2*a)\n",
    "    print(f\"The roots are real and distinct: {root1} and {root2}\")\n",
    "elif discriminant == 0:\n",
    "    # One real root (a repeated root)\n",
    "    root = -b / (2*a)\n",
    "    print(f\"The root is a repeated real root: {root}\")\n",
    "else:\n",
    "    # Complex roots (no real roots)\n",
    "    real_part = -b / (2*a)\n",
    "    imaginary_part = math.sqrt(abs(discriminant)) / (2*a)\n",
    "    print(f\"The roots are complex: {real_part} + {imaginary_part}i and {real_part} - {imaginary_part}i\")\n"
   ]
  },
  {
   "cell_type": "code",
   "execution_count": 14,
   "id": "21509151-2759-4e5a-9d7f-78dc706d9087",
   "metadata": {},
   "outputs": [
    {
     "name": "stdin",
     "output_type": "stream",
     "text": [
      "Enter a number (1 for Monday, 2 for Tuesday, etc.):  3\n"
     ]
    },
    {
     "name": "stdout",
     "output_type": "stream",
     "text": [
      "The day of the week is Wednesday.\n"
     ]
    }
   ],
   "source": [
    "#18\n",
    "# Input a number representing the day of the week\n",
    "day_number = int(input(\"Enter a number (1 for Monday, 2 for Tuesday, etc.): \"))\n",
    "\n",
    "# Define a list of days of the week\n",
    "days_of_week = [\"Monday\", \"Tuesday\", \"Wednesday\", \"Thursday\", \"Friday\", \"Saturday\", \"Sunday\"]\n",
    "\n",
    "# Check if the input is within a valid range\n",
    "if 1 <= day_number <= 7:\n",
    "    # Subtract 1 from the input to access the list\n",
    "    day_name = days_of_week[day_number - 1]\n",
    "    print(f\"The day of the week is {day_name}.\")\n",
    "else:\n",
    "    print(\"Invalid input. Please enter a number between 1 and 7.\")\n"
   ]
  },
  {
   "cell_type": "code",
   "execution_count": 15,
   "id": "d8812b99-4097-4a6b-8d45-e747a5309bf3",
   "metadata": {},
   "outputs": [
    {
     "name": "stdin",
     "output_type": "stream",
     "text": [
      "Enter a year:  2333\n"
     ]
    },
    {
     "name": "stdout",
     "output_type": "stream",
     "text": [
      "2333 is not a leap year or not evenly divisible by 400.\n"
     ]
    }
   ],
   "source": [
    "#19\n",
    "# Input a year from the user\n",
    "year = int(input(\"Enter a year: \"))\n",
    "\n",
    "# Check if it's a leap year and divisible by 400\n",
    "if (year % 4 == 0 and year % 100 != 0) or year % 400 == 0:\n",
    "    print(f\"{year} is a leap year and evenly divisible by 400.\")\n",
    "else:\n",
    "    print(f\"{year} is not a leap year or not evenly divisible by 400.\")\n"
   ]
  },
  {
   "cell_type": "code",
   "execution_count": 16,
   "id": "0a40d0dc-bddc-4856-a3db-9f26b0f8112c",
   "metadata": {},
   "outputs": [
    {
     "name": "stdin",
     "output_type": "stream",
     "text": [
      "Enter a number:  5\n"
     ]
    },
    {
     "name": "stdout",
     "output_type": "stream",
     "text": [
      "5 is a prime number.\n"
     ]
    }
   ],
   "source": [
    "#20\n",
    "# Input a number from the user\n",
    "num = int(input(\"Enter a number: \"))\n",
    "\n",
    "# Check if the number is prime\n",
    "if num > 1:\n",
    "    for i in range(2, int(num**0.5) + 1):\n",
    "        if (num % i) == 0:\n",
    "            print(f\"{num} is not a prime number.\")\n",
    "            break\n",
    "    else:\n",
    "        print(f\"{num} is a prime number.\")\n",
    "else:\n",
    "    print(f\"{num} is not a prime number.\")\n"
   ]
  },
  {
   "cell_type": "code",
   "execution_count": 17,
   "id": "b3e30ce9-b705-41e8-9c81-017a3a65fa63",
   "metadata": {},
   "outputs": [
    {
     "name": "stdin",
     "output_type": "stream",
     "text": [
      "Enter the student's score:  55\n"
     ]
    },
    {
     "name": "stdout",
     "output_type": "stream",
     "text": [
      "The student's grade is: F\n"
     ]
    }
   ],
   "source": [
    "#21\n",
    "# Input the student's score\n",
    "score = float(input(\"Enter the student's score: \"))\n",
    "\n",
    "# Assign grades based on different score ranges\n",
    "if 90 <= score <= 100:\n",
    "    grade = 'A'\n",
    "elif 80 <= score < 90:\n",
    "    grade = 'B'\n",
    "elif 70 <= score < 80:\n",
    "    grade = 'C'\n",
    "elif 60 <= score < 70:\n",
    "    grade = 'D'\n",
    "elif 0 <= score < 60:\n",
    "    grade = 'F'\n",
    "else:\n",
    "    grade = 'Invalid Score'\n",
    "\n",
    "# Display the assigned grade\n",
    "print(f\"The student's grade is: {grade}\")\n"
   ]
  },
  {
   "cell_type": "code",
   "execution_count": 18,
   "id": "0c519571-8da9-417e-b4f1-932bc9aee735",
   "metadata": {},
   "outputs": [
    {
     "name": "stdin",
     "output_type": "stream",
     "text": [
      "Enter the first angle (in degrees):  56\n",
      "Enter the second angle (in degrees):  63\n",
      "Enter the third angle (in degrees):  88\n"
     ]
    },
    {
     "name": "stdout",
     "output_type": "stream",
     "text": [
      "The triangle is a Invalid Triangle (angles do not add up to 180 degrees).\n"
     ]
    }
   ],
   "source": [
    "#22\n",
    "# Input the three angles of the triangle\n",
    "angle1 = float(input(\"Enter the first angle (in degrees): \"))\n",
    "angle2 = float(input(\"Enter the second angle (in degrees): \"))\n",
    "angle3 = float(input(\"Enter the third angle (in degrees): \"))\n",
    "\n",
    "# Check the type of triangle based on angles\n",
    "if angle1 + angle2 + angle3 == 180:\n",
    "    if angle1 < 90 and angle2 < 90 and angle3 < 90:\n",
    "        triangle_type = \"Acute Triangle\"\n",
    "    elif angle1 == 90 or angle2 == 90 or angle3 == 90:\n",
    "        triangle_type = \"Right Triangle\"\n",
    "    else:\n",
    "        triangle_type = \"Obtuse Triangle\"\n",
    "else:\n",
    "    triangle_type = \"Invalid Triangle (angles do not add up to 180 degrees)\"\n",
    "\n",
    "# Display the result\n",
    "print(f\"The triangle is a {triangle_type}.\")\n"
   ]
  },
  {
   "cell_type": "code",
   "execution_count": 19,
   "id": "603470ba-da19-499c-a20c-7e0048669a06",
   "metadata": {},
   "outputs": [
    {
     "name": "stdin",
     "output_type": "stream",
     "text": [
      "Enter the person's weight (in kg):  61\n",
      "Enter the person's height (in meters):  1.756\n"
     ]
    },
    {
     "name": "stdout",
     "output_type": "stream",
     "text": [
      "The person's BMI category is: Normal\n"
     ]
    }
   ],
   "source": [
    "#23\n",
    "# Input the person's weight (in kilograms) and height (in meters)\n",
    "weight = float(input(\"Enter the person's weight (in kg): \"))\n",
    "height = float(input(\"Enter the person's height (in meters): \"))\n",
    "\n",
    "# Calculate the BMI\n",
    "bmi = weight / (height ** 2)\n",
    "\n",
    "# Determine the BMI category\n",
    "if bmi < 18.5:\n",
    "    category = \"Underweight\"\n",
    "elif 18.5 <= bmi < 24.9:\n",
    "    category = \"Normal\"\n",
    "elif 24.9 <= bmi < 29.9:\n",
    "    category = \"Overweight\"\n",
    "else:\n",
    "    category = \"Obese\"\n",
    "\n",
    "# Display the BMI category\n",
    "print(f\"The person's BMI category is: {category}\")\n"
   ]
  },
  {
   "cell_type": "code",
   "execution_count": 20,
   "id": "b9ec570d-a338-4c11-9af9-c96de20a3bf8",
   "metadata": {},
   "outputs": [
    {
     "name": "stdin",
     "output_type": "stream",
     "text": [
      "Enter a number:  88\n"
     ]
    },
    {
     "name": "stdout",
     "output_type": "stream",
     "text": [
      "The number is positive.\n"
     ]
    }
   ],
   "source": [
    "#24\n",
    "# Input a number from the user\n",
    "number = float(input(\"Enter a number: \"))\n",
    "\n",
    "# Check if the number is positive, negative, or zero using elif statements\n",
    "if number > 0:\n",
    "    print(\"The number is positive.\")\n",
    "elif number < 0:\n",
    "    print(\"The number is negative.\")\n",
    "else:\n",
    "    print(\"The number is zero.\")\n"
   ]
  },
  {
   "cell_type": "code",
   "execution_count": 21,
   "id": "6e60ae1b-1302-4b0f-8ae4-d66576c5d71b",
   "metadata": {},
   "outputs": [
    {
     "name": "stdin",
     "output_type": "stream",
     "text": [
      "Enter a character:  ytkk\n"
     ]
    },
    {
     "name": "stdout",
     "output_type": "stream",
     "text": [
      "ytkk is a lowercase letter.\n"
     ]
    }
   ],
   "source": [
    "#25\n",
    "# Input a character from the user\n",
    "character = input(\"Enter a character: \")\n",
    "\n",
    "# Check the type of character using elif statements\n",
    "if character.isalpha():\n",
    "    if character.islower():\n",
    "        print(f\"{character} is a lowercase letter.\")\n",
    "    else:\n",
    "        print(f\"{character} is an uppercase letter.\")\n",
    "elif character.isdigit():\n",
    "    print(f\"{character} is a digit.\")\n",
    "else:\n",
    "    print(f\"{character} is a special character.\")\n"
   ]
  },
  {
   "cell_type": "code",
   "execution_count": 22,
   "id": "473820c7-7eb6-4f97-9b5a-70953473f6af",
   "metadata": {},
   "outputs": [
    {
     "name": "stdin",
     "output_type": "stream",
     "text": [
      "Enter the purchase amount:  56756\n"
     ]
    },
    {
     "name": "stdout",
     "output_type": "stream",
     "text": [
      "The discounted price is: $45404.80\n"
     ]
    }
   ],
   "source": [
    "#26\n",
    "# Input the purchase amount\n",
    "purchase_amount = float(input(\"Enter the purchase amount: \"))\n",
    "\n",
    "# Calculate the discounted price based on different purchase amounts using elif statements\n",
    "if purchase_amount < 100:\n",
    "    discount = 0\n",
    "elif purchase_amount < 500:\n",
    "    discount = 0.1  # 10% discount\n",
    "elif purchase_amount < 1000:\n",
    "    discount = 0.15  # 15% discount\n",
    "else:\n",
    "    discount = 0.2  # 20% discount\n",
    "\n",
    "discounted_price = purchase_amount - (purchase_amount * discount)\n",
    "print(f\"The discounted price is: ${discounted_price:.2f}\")\n"
   ]
  },
  {
   "cell_type": "code",
   "execution_count": 23,
   "id": "24bb96aa-b529-4e2f-9b80-59be9b602983",
   "metadata": {},
   "outputs": [
    {
     "name": "stdin",
     "output_type": "stream",
     "text": [
      "Enter the electricity consumption (in kWh):  44\n"
     ]
    },
    {
     "name": "stdout",
     "output_type": "stream",
     "text": [
      "The electricity bill is: $4.40\n"
     ]
    }
   ],
   "source": [
    "#27\n",
    "# Input the electricity consumption in kilowatt-hours\n",
    "consumption = float(input(\"Enter the electricity consumption (in kWh): \"))\n",
    "\n",
    "# Calculate the electricity bill based on different consumption slabs using elif statements\n",
    "if consumption <= 100:\n",
    "    bill = consumption * 0.1\n",
    "elif consumption <= 200:\n",
    "    bill = 100 * 0.1 + (consumption - 100) * 0.15\n",
    "elif consumption <= 300:\n",
    "    bill = 100 * 0.1 + 100 * 0.15 + (consumption - 200) * 0.2\n",
    "else:\n",
    "    bill = 100 * 0.1 + 100 * 0.15 + 100 * 0.2 + (consumption - 300) * 0.25\n",
    "\n",
    "print(f\"The electricity bill is: ${bill:.2f}\")\n"
   ]
  },
  {
   "cell_type": "code",
   "execution_count": 24,
   "id": "63b4d068-c0af-422d-898a-c0ae8d53998e",
   "metadata": {},
   "outputs": [
    {
     "name": "stdin",
     "output_type": "stream",
     "text": [
      "Enter the first angle:  44\n",
      "Enter the second angle:  56\n",
      "Enter the third angle:  565\n",
      "Enter the fourth angle:  88\n",
      "Enter the length of the first side:  55\n",
      "Enter the length of the second side:  5\n",
      "Enter the length of the third side:  858\n",
      "Enter the length of the fourth side:  55\n"
     ]
    },
    {
     "name": "stdout",
     "output_type": "stream",
     "text": [
      "The quadrilateral is a Invalid Quadrilateral.\n"
     ]
    }
   ],
   "source": [
    "#28\n",
    "# Input the angles and sides of the quadrilateral\n",
    "angle1 = float(input(\"Enter the first angle: \"))\n",
    "angle2 = float(input(\"Enter the second angle: \"))\n",
    "angle3 = float(input(\"Enter the third angle: \"))\n",
    "angle4 = float(input(\"Enter the fourth angle: \"))\n",
    "side1 = float(input(\"Enter the length of the first side: \"))\n",
    "side2 = float(input(\"Enter the length of the second side: \"))\n",
    "side3 = float(input(\"Enter the length of the third side: \"))\n",
    "side4 = float(input(\"Enter the length of the fourth side: \"))\n",
    "\n",
    "# Determine the type of quadrilateral based on its angles and sides using elif statements\n",
    "if angle1 + angle2 + angle3 + angle4 == 360:\n",
    "    if side1 == side2 == side3 == side4:\n",
    "        quadrilateral_type = \"Square\"\n",
    "    elif side1 == side3 and side2 == side4:\n",
    "        quadrilateral_type = \"Rectangle\"\n",
    "    elif (side1 == side2 and side3 == side4) or (side1 == side4 and side2 == side3):\n",
    "        quadrilateral_type = \"Rhombus\"\n",
    "    else:\n",
    "        quadrilateral_type = \"Quadrilateral\"\n",
    "else:\n",
    "    quadrilateral_type = \"Invalid Quadrilateral\"\n",
    "\n",
    "print(f\"The quadrilateral is a {quadrilateral_type}.\")\n"
   ]
  },
  {
   "cell_type": "code",
   "execution_count": 25,
   "id": "fdd1fbe0-ed6c-4af3-abc9-38baba9e6738",
   "metadata": {},
   "outputs": [
    {
     "name": "stdin",
     "output_type": "stream",
     "text": [
      "Enter the month:  4\n"
     ]
    },
    {
     "name": "stdout",
     "output_type": "stream",
     "text": [
      "The season for 4 is Invalid Month.\n"
     ]
    }
   ],
   "source": [
    "#29\n",
    "# Input the month from the user\n",
    "month = input(\"Enter the month: \")\n",
    "\n",
    "# Determine the season based on the month using elif statements\n",
    "if month in [\"December\", \"January\", \"February\"]:\n",
    "    season = \"Winter\"\n",
    "elif month in [\"March\", \"April\", \"May\"]:\n",
    "    season = \"Spring\"\n",
    "elif month in [\"June\", \"July\", \"August\"]:\n",
    "    season = \"Summer\"\n",
    "elif month in [\"September\", \"October\", \"November\"]:\n",
    "    season = \"Fall\"\n",
    "else:\n",
    "    season = \"Invalid Month\"\n",
    "\n",
    "print(f\"The season for {month} is {season}.\")\n"
   ]
  },
  {
   "cell_type": "code",
   "execution_count": 26,
   "id": "bed461de-857c-4874-958b-e314bbbedbb5",
   "metadata": {},
   "outputs": [
    {
     "name": "stdin",
     "output_type": "stream",
     "text": [
      "Enter a year:  2222\n",
      "Enter a month:  5\n"
     ]
    },
    {
     "name": "stdout",
     "output_type": "stream",
     "text": [
      "2222 is a Common Year, and 5 has 31 days.\n"
     ]
    }
   ],
   "source": [
    "#30\n",
    "# Input a year and a month from the user\n",
    "year = int(input(\"Enter a year: \"))\n",
    "month = input(\"Enter a month: \")\n",
    "\n",
    "# Determine the type of year and month using elif statements\n",
    "if year % 4 == 0 and (year % 100 != 0 or year % 400 == 0):\n",
    "    year_type = \"Leap Year\"\n",
    "else:\n",
    "    year_type = \"Common Year\"\n",
    "\n",
    "if month in [\"April\", \"June\", \"September\", \"November\"]:\n",
    "    days_in_month = 30\n",
    "elif month == \"February\":\n",
    "    if year_type == \"Leap Year\":\n",
    "        days_in_month = 29\n",
    "    else:\n",
    "        days_in_month = 28\n",
    "else:\n",
    "    days_in_month = 31\n",
    "\n",
    "print(f\"{year} is a {year_type}, and {month} has {days_in_month} days.\")\n"
   ]
  },
  {
   "cell_type": "code",
   "execution_count": 28,
   "id": "a9af736b-6336-4f50-88f8-6ef0d7f58de4",
   "metadata": {},
   "outputs": [
    {
     "name": "stdin",
     "output_type": "stream",
     "text": [
      "Enter a number:  5\n"
     ]
    },
    {
     "name": "stdout",
     "output_type": "stream",
     "text": [
      "Positive\n"
     ]
    }
   ],
   "source": [
    "#1\n",
    "number = float(input(\"Enter a number: \"))\n",
    "if number > 0:\n",
    "    print(\"Positive\")\n",
    "elif number < 0:\n",
    "    print(\"Negative\")\n",
    "else:\n",
    "    print(\"Zero\")\n"
   ]
  },
  {
   "cell_type": "code",
   "execution_count": 29,
   "id": "94c92c8b-0c05-42c1-834d-29d3d05a8e7a",
   "metadata": {},
   "outputs": [
    {
     "name": "stdin",
     "output_type": "stream",
     "text": [
      "Enter your age:  21\n"
     ]
    },
    {
     "name": "stdout",
     "output_type": "stream",
     "text": [
      "You are eligible to vote.\n"
     ]
    }
   ],
   "source": [
    "#2\n",
    "age = int(input(\"Enter your age: \"))\n",
    "if age >= 18:\n",
    "    print(\"You are eligible to vote.\")\n",
    "else:\n",
    "    print(\"You are not eligible to vote.\")\n"
   ]
  },
  {
   "cell_type": "code",
   "execution_count": 30,
   "id": "b7239ca4-9c40-4102-9163-88a9af022b02",
   "metadata": {},
   "outputs": [
    {
     "name": "stdin",
     "output_type": "stream",
     "text": [
      "Enter the first number:  5\n",
      "Enter the second number:  6\n"
     ]
    },
    {
     "name": "stdout",
     "output_type": "stream",
     "text": [
      "The maximum number is 6.0.\n"
     ]
    }
   ],
   "source": [
    "#3\n",
    "num1 = float(input(\"Enter the first number: \"))\n",
    "num2 = float(input(\"Enter the second number: \"))\n",
    "if num1 > num2:\n",
    "    print(f\"The maximum number is {num1}.\")\n",
    "else:\n",
    "    print(f\"The maximum number is {num2}.\")\n"
   ]
  },
  {
   "cell_type": "code",
   "execution_count": 31,
   "id": "169a14e9-bbb6-4901-a4e6-1510dabb5ce4",
   "metadata": {},
   "outputs": [
    {
     "name": "stdin",
     "output_type": "stream",
     "text": [
      "Enter the exam score:  45\n"
     ]
    },
    {
     "name": "stdout",
     "output_type": "stream",
     "text": [
      "The student's grade is F.\n"
     ]
    }
   ],
   "source": [
    "#4\n",
    "score = float(input(\"Enter the exam score: \"))\n",
    "if score >= 90:\n",
    "    grade = \"A\"\n",
    "elif score >= 80:\n",
    "    grade = \"B\"\n",
    "elif score >= 70:\n",
    "    grade = \"C\"\n",
    "elif score >= 60:\n",
    "    grade = \"D\"\n",
    "else:\n",
    "    grade = \"F\"\n",
    "print(f\"The student's grade is {grade}.\")\n"
   ]
  },
  {
   "cell_type": "code",
   "execution_count": 32,
   "id": "d034c673-7395-42c3-82bf-19575ff94600",
   "metadata": {},
   "outputs": [
    {
     "name": "stdin",
     "output_type": "stream",
     "text": [
      "Enter a year:  55\n"
     ]
    },
    {
     "name": "stdout",
     "output_type": "stream",
     "text": [
      "Not a leap year\n"
     ]
    }
   ],
   "source": [
    "#5\n",
    "year = int(input(\"Enter a year: \"))\n",
    "if (year % 4 == 0 and year % 100 != 0) or (year % 400 == 0):\n",
    "    print(\"Leap year\")\n",
    "else:\n",
    "    print(\"Not a leap year\")\n"
   ]
  },
  {
   "cell_type": "code",
   "execution_count": 33,
   "id": "2fb8cfc3-4dce-4ad6-af83-3be02a828d09",
   "metadata": {},
   "outputs": [
    {
     "name": "stdin",
     "output_type": "stream",
     "text": [
      "Enter the length of the first side:  55\n",
      "Enter the length of the second side:  55\n",
      "Enter the length of the third side:  55\n"
     ]
    },
    {
     "name": "stdout",
     "output_type": "stream",
     "text": [
      "Equilateral triangle\n"
     ]
    }
   ],
   "source": [
    "#6\n",
    "side1 = float(input(\"Enter the length of the first side: \"))\n",
    "side2 = float(input(\"Enter the length of the second side: \"))\n",
    "side3 = float(input(\"Enter the length of the third side: \"))\n",
    "if side1 == side2 == side3:\n",
    "    print(\"Equilateral triangle\")\n",
    "elif side1 == side2 or side1 == side3 or side2 == side3:\n",
    "    print(\"Isosceles triangle\")\n",
    "else:\n",
    "    print(\"Scalene triangle\")\n"
   ]
  },
  {
   "cell_type": "code",
   "execution_count": 34,
   "id": "e1d4049c-a450-4ea6-9b9e-63efc5efcbc1",
   "metadata": {},
   "outputs": [
    {
     "name": "stdin",
     "output_type": "stream",
     "text": [
      "Enter the first number:  55\n",
      "Enter the second number:  55\n",
      "Enter the third number:  55\n"
     ]
    },
    {
     "name": "stdout",
     "output_type": "stream",
     "text": [
      "The largest number is 55.0.\n"
     ]
    }
   ],
   "source": [
    "#7\n",
    "num1 = float(input(\"Enter the first number: \"))\n",
    "num2 = float(input(\"Enter the second number: \"))\n",
    "num3 = float(input(\"Enter the third number: \"))\n",
    "if num1 >= num2 and num1 >= num3:\n",
    "    largest = num1\n",
    "elif num2 >= num1 and num2 >= num3:\n",
    "    largest = num2\n",
    "else:\n",
    "    largest = num3\n",
    "print(f\"The largest number is {largest}.\")\n"
   ]
  },
  {
   "cell_type": "code",
   "execution_count": 35,
   "id": "f0665b81-a45c-4dad-b6ac-39b94852dba1",
   "metadata": {},
   "outputs": [
    {
     "name": "stdin",
     "output_type": "stream",
     "text": [
      "Enter a character:  ujfgj\n"
     ]
    },
    {
     "name": "stdout",
     "output_type": "stream",
     "text": [
      "Consonant\n"
     ]
    }
   ],
   "source": [
    "#8\n",
    "char = input(\"Enter a character: \").lower()\n",
    "if char in 'aeiou':\n",
    "    print(\"Vowel\")\n",
    "else:\n",
    "    print(\"Consonant\")\n"
   ]
  },
  {
   "cell_type": "code",
   "execution_count": 36,
   "id": "75461505-92f3-41af-b433-6df23aaef0a9",
   "metadata": {},
   "outputs": [
    {
     "name": "stdin",
     "output_type": "stream",
     "text": [
      "Enter the total price:  55\n"
     ]
    },
    {
     "name": "stdout",
     "output_type": "stream",
     "text": [
      "The total cost after discount is 55.0.\n"
     ]
    }
   ],
   "source": [
    "#9\n",
    "total_price = float(input(\"Enter the total price: \"))\n",
    "if total_price >= 100:\n",
    "    discount = 0.1  # 10% discount\n",
    "else:\n",
    "    discount = 0\n",
    "discounted_price = total_price - (total_price * discount)\n",
    "print(f\"The total cost after discount is {discounted_price}.\")\n"
   ]
  },
  {
   "cell_type": "code",
   "execution_count": 37,
   "id": "18e5297a-bdf9-4759-aaf3-ed0c695e19ee",
   "metadata": {},
   "outputs": [
    {
     "name": "stdin",
     "output_type": "stream",
     "text": [
      "Enter a number:  55\n"
     ]
    },
    {
     "name": "stdout",
     "output_type": "stream",
     "text": [
      "Odd\n"
     ]
    }
   ],
   "source": [
    "#10\n",
    "number = int(input(\"Enter a number: \"))\n",
    "if number % 2 == 0:\n",
    "    print(\"Even\")\n",
    "else:\n",
    "    print(\"Odd\")\n"
   ]
  },
  {
   "cell_type": "code",
   "execution_count": 38,
   "id": "0cb9f5e8-e9be-4c3c-98bf-353c10c25201",
   "metadata": {},
   "outputs": [
    {
     "name": "stdin",
     "output_type": "stream",
     "text": [
      "Enter the coefficient 'a':  5\n",
      "Enter the coefficient 'b':  6\n",
      "Enter the coefficient 'c':  3\n"
     ]
    },
    {
     "name": "stdout",
     "output_type": "stream",
     "text": [
      "The roots are complex: -0.6 + 0.4898979485566356i and -0.6 - 0.4898979485566356i\n"
     ]
    }
   ],
   "source": [
    "#11\n",
    "import math\n",
    "\n",
    "a = float(input(\"Enter the coefficient 'a': \"))\n",
    "b = float(input(\"Enter the coefficient 'b': \"))\n",
    "c = float(input(\"Enter the coefficient 'c': \"))\n",
    "\n",
    "discriminant = b**2 - 4*a*c\n",
    "\n",
    "if discriminant > 0:\n",
    "    root1 = (-b + math.sqrt(discriminant)) / (2*a)\n",
    "    root2 = (-b - math.sqrt(discriminant)) / (2*a)\n",
    "    print(f\"The roots are real and distinct: {root1} and {root2}\")\n",
    "elif discriminant == 0:\n",
    "    root = -b / (2*a)\n",
    "    print(f\"The root is a repeated real root: {root}\")\n",
    "else:\n",
    "    real_part = -b / (2*a)\n",
    "    imaginary_part = math.sqrt(abs(discriminant)) / (2*a)\n",
    "    print(f\"The roots are complex: {real_part} + {imaginary_part}i and {real_part} - {imaginary_part}i\")\n"
   ]
  },
  {
   "cell_type": "code",
   "execution_count": 39,
   "id": "4f48aff3-ba43-4442-b716-40b7b3dbbedb",
   "metadata": {},
   "outputs": [
    {
     "name": "stdin",
     "output_type": "stream",
     "text": [
      "Enter a day number (1 for Monday, 2 for Tuesday, etc.):  6\n"
     ]
    },
    {
     "name": "stdout",
     "output_type": "stream",
     "text": [
      "The day of the week is Saturday.\n"
     ]
    }
   ],
   "source": [
    "#12\n",
    "day_number = int(input(\"Enter a day number (1 for Monday, 2 for Tuesday, etc.): \"))\n",
    "days_of_week = [\"Monday\", \"Tuesday\", \"Wednesday\", \"Thursday\", \"Friday\", \"Saturday\", \"Sunday\"]\n",
    "\n",
    "if 1 <= day_number <= 7:\n",
    "    day_name = days_of_week[day_number - 1]\n",
    "    print(f\"The day of the week is {day_name}.\")\n",
    "else:\n",
    "    print(\"Invalid input. Please enter a number between 1 and 7.\")\n"
   ]
  },
  {
   "cell_type": "code",
   "execution_count": 40,
   "id": "c8e5f22f-2691-41d6-af25-38b1908e59f9",
   "metadata": {},
   "outputs": [
    {
     "name": "stdin",
     "output_type": "stream",
     "text": [
      "Enter a number:  3\n"
     ]
    },
    {
     "name": "stdout",
     "output_type": "stream",
     "text": [
      "The factorial of 3 is 6.\n"
     ]
    }
   ],
   "source": [
    "#13\n",
    "def factorial(n):\n",
    "    if n == 0:\n",
    "        return 1\n",
    "    else:\n",
    "        return n * factorial(n - 1)\n",
    "\n",
    "number = int(input(\"Enter a number: \"))\n",
    "result = factorial(number)\n",
    "print(f\"The factorial of {number} is {result}.\")\n"
   ]
  },
  {
   "cell_type": "code",
   "execution_count": 41,
   "id": "c8f82f96-4224-4a11-a94c-fb6c1ada3d2f",
   "metadata": {},
   "outputs": [
    {
     "name": "stdin",
     "output_type": "stream",
     "text": [
      "Enter the first number:  5\n",
      "Enter the second number:  6\n",
      "Enter the third number:  3\n"
     ]
    },
    {
     "name": "stdout",
     "output_type": "stream",
     "text": [
      "The largest number is 6.0.\n"
     ]
    }
   ],
   "source": [
    "#14\n",
    "num1 = float(input(\"Enter the first number: \"))\n",
    "num2 = float(input(\"Enter the second number: \"))\n",
    "num3 = float(input(\"Enter the third number: \"))\n",
    "\n",
    "if num1 >= num2 and num1 >= num3:\n",
    "    largest = num1\n",
    "elif num2 >= num1 and num2 >= num3:\n",
    "    largest = num2\n",
    "else:\n",
    "    largest = num3\n",
    "\n",
    "print(f\"The largest number is {largest}.\")\n"
   ]
  },
  {
   "cell_type": "code",
   "execution_count": 42,
   "id": "06ae227b-a2e7-4d41-8ef9-302c1c351b7b",
   "metadata": {},
   "outputs": [
    {
     "name": "stdout",
     "output_type": "stream",
     "text": [
      "1. Check Balance\n",
      "2. Deposit\n",
      "3. Withdraw\n",
      "4. Quit\n"
     ]
    },
    {
     "name": "stdin",
     "output_type": "stream",
     "text": [
      "Enter your choice (1/2/3/4):  1\n"
     ]
    },
    {
     "name": "stdout",
     "output_type": "stream",
     "text": [
      "Your balance is $1000.00\n",
      "1. Check Balance\n",
      "2. Deposit\n",
      "3. Withdraw\n",
      "4. Quit\n"
     ]
    },
    {
     "name": "stdin",
     "output_type": "stream",
     "text": [
      "Enter your choice (1/2/3/4):  4\n"
     ]
    }
   ],
   "source": [
    "#15\n",
    "balance = 1000\n",
    "\n",
    "while True:\n",
    "    print(\"1. Check Balance\")\n",
    "    print(\"2. Deposit\")\n",
    "    print(\"3. Withdraw\")\n",
    "    print(\"4. Quit\")\n",
    "    \n",
    "    choice = input(\"Enter your choice (1/2/3/4): \")\n",
    "\n",
    "    if choice == '1':\n",
    "        print(f\"Your balance is ${balance:.2f}\")\n",
    "    elif choice == '2':\n",
    "        deposit = float(input(\"Enter the deposit amount: \"))\n",
    "        balance += deposit\n",
    "        print(f\"New balance is ${balance:.2f}\")\n",
    "    elif choice == '3':\n",
    "        withdraw = float(input(\"Enter the withdrawal amount: \"))\n",
    "        if withdraw <= balance:\n",
    "            balance -= withdraw\n",
    "            print(f\"New balance is ${balance:.2f}\")\n",
    "        else:\n",
    "            print(\"Insufficient funds.\")\n",
    "    elif choice == '4':\n",
    "        break\n",
    "    else:\n",
    "        print(\"Invalid choice. Please select 1, 2, 3, or 4.\")\n"
   ]
  },
  {
   "cell_type": "code",
   "execution_count": 43,
   "id": "f1467caf-41a4-4ec5-97e6-9b933c12594b",
   "metadata": {},
   "outputs": [
    {
     "name": "stdin",
     "output_type": "stream",
     "text": [
      "Enter a string:  gdfgh\n"
     ]
    },
    {
     "name": "stdout",
     "output_type": "stream",
     "text": [
      "Not a palindrome\n"
     ]
    }
   ],
   "source": [
    "#16\n",
    "text = input(\"Enter a string: \")\n",
    "text = text.lower()  # Convert to lowercase for case-insensitive check\n",
    "reversed_text = text[::-1]\n",
    "\n",
    "if text == reversed_text:\n",
    "    print(\"Palindrome\")\n",
    "else:\n",
    "    print(\"Not a palindrome\")\n"
   ]
  },
  {
   "cell_type": "code",
   "execution_count": 44,
   "id": "b4385a32-c0c8-4a39-b722-c657c44c060d",
   "metadata": {},
   "outputs": [
    {
     "name": "stdin",
     "output_type": "stream",
     "text": [
      "Enter a list of numbers separated by spaces:  7 6 6\n"
     ]
    },
    {
     "name": "stdout",
     "output_type": "stream",
     "text": [
      "The average (excluding the smallest and largest) is 6.00\n"
     ]
    }
   ],
   "source": [
    "#17\n",
    "numbers = [float(x) for x in input(\"Enter a list of numbers separated by spaces: \").split()]\n",
    "if len(numbers) < 3:\n",
    "    print(\"At least three numbers are required.\")\n",
    "else:\n",
    "    numbers.sort()\n",
    "    average = sum(numbers[1:-1]) / (len(numbers) - 2)\n",
    "    print(f\"The average (excluding the smallest and largest) is {average:.2f}\")\n"
   ]
  },
  {
   "cell_type": "code",
   "execution_count": 45,
   "id": "71396cd3-b6b6-470e-beef-5f86d6935c61",
   "metadata": {},
   "outputs": [
    {
     "name": "stdin",
     "output_type": "stream",
     "text": [
      "Enter temperature in Celsius:  55\n"
     ]
    },
    {
     "name": "stdout",
     "output_type": "stream",
     "text": [
      "55.0°C is equal to 131.0°F.\n"
     ]
    }
   ],
   "source": [
    "#18\n",
    "celsius = float(input(\"Enter temperature in Celsius: \"))\n",
    "fahrenheit = (celsius * 9/5) + 32\n",
    "print(f\"{celsius}°C is equal to {fahrenheit}°F.\")\n"
   ]
  },
  {
   "cell_type": "code",
   "execution_count": 46,
   "id": "347a1875-1fd5-416a-960d-45380fd662ab",
   "metadata": {},
   "outputs": [
    {
     "name": "stdin",
     "output_type": "stream",
     "text": [
      "Enter the first number:  5\n",
      "Enter an operator (+, -, *, /):  +\n",
      "Enter the second number:  5\n"
     ]
    },
    {
     "name": "stdout",
     "output_type": "stream",
     "text": [
      "Result: 10.0\n"
     ]
    }
   ],
   "source": [
    "#19\n",
    "num1 = float(input(\"Enter the first number: \"))\n",
    "operator = input(\"Enter an operator (+, -, *, /): \")\n",
    "num2 = float(input(\"Enter the second number: \"))\n",
    "\n",
    "if operator == '+':\n",
    "    result = num1 + num2\n",
    "elif operator == '-':\n",
    "    result = num1 - num2\n",
    "elif operator == '*':\n",
    "    result = num1 * num2\n",
    "elif operator == '/':\n",
    "    if num2 == 0:\n",
    "        result = \"Division by zero is not allowed.\"\n",
    "    else:\n",
    "        result = num1 / num2\n",
    "else:\n",
    "    result = \"Invalid operator\"\n",
    "\n",
    "print(f\"Result: {result}\")\n"
   ]
  },
  {
   "cell_type": "code",
   "execution_count": 47,
   "id": "e39f335c-09d8-47c4-a897-b0cd31b8be63",
   "metadata": {},
   "outputs": [
    {
     "name": "stdin",
     "output_type": "stream",
     "text": [
      "Enter the coefficient 'a':  5\n",
      "Enter the coefficient 'b':  6\n",
      "Enter the coefficient 'c':  3\n",
      "Enter the coefficient 'd':  5\n"
     ]
    },
    {
     "name": "stdout",
     "output_type": "stream",
     "text": [
      "The real roots are -1.319590680524768, -1.3508015009399648, and -1.3508015009399648\n"
     ]
    }
   ],
   "source": [
    "#20\n",
    "a = float(input(\"Enter the coefficient 'a': \"))\n",
    "b = float(input(\"Enter the coefficient 'b': \"))\n",
    "c = float(input(\"Enter the coefficient 'c': \"))\n",
    "d = float(input(\"Enter the coefficient 'd': \"))\n",
    "\n",
    "discriminant1 = b**2 - 3*a*c\n",
    "discriminant2 = 2*b**3 - 9*a*b*c + 27*a**2*d\n",
    "C = ((discriminant2 + (discriminant2**2 - 4*discriminant1**3)**0.5) / 2)**(1/3)\n",
    "\n",
    "if discriminant1 == 0 and discriminant2 == 0:\n",
    "    root = -b / (3*a)\n",
    "    print(f\"The real root is {root}\")\n",
    "else:\n",
    "    root1 = (-(b + C + discriminant1 / C) / (3*a)).real\n",
    "    root2 = (-(b + (1 + 1j * 3**0.5) * C + discriminant1 / ((1 + 1j * 3**0.5) * C)) / (3*a)).real\n",
    "    root3 = (-(b + (1 - 1j * 3**0.5) * C + discriminant1 / ((1 - 1j * 3**0.5) * C)) / (3*a)).real\n",
    "    print(f\"The real roots are {root1}, {root2}, and {root3}\")\n"
   ]
  },
  {
   "cell_type": "code",
   "execution_count": 8,
   "id": "2bd12077-0147-4e3c-8b84-4ae3c202dbc7",
   "metadata": {},
   "outputs": [
    {
     "name": "stdin",
     "output_type": "stream",
     "text": [
      "Enter your income:  5\n"
     ]
    },
    {
     "name": "stdout",
     "output_type": "stream",
     "text": [
      "Your income tax is: $0.50\n"
     ]
    }
   ],
   "source": [
    "#21\n",
    "income = float(input(\"Enter your income: \"))\n",
    "\n",
    "if income <= 9875:\n",
    "    tax = 0.1 * income\n",
    "elif income <= 40125:\n",
    "    tax = 987.5 + 0.12 * (income - 9875)\n",
    "elif income <= 85525:\n",
    "    tax = 4617.5 + 0.22 * (income - 40125)\n",
    "else:\n",
    "    tax = 14605.5 + 0.24 * (income - 85525)\n",
    "\n",
    "print(f\"Your income tax is: ${tax:.2f}\")\n"
   ]
  },
  {
   "cell_type": "code",
   "execution_count": 9,
   "id": "88e61e39-86c4-4062-ac57-d8c8a8982475",
   "metadata": {},
   "outputs": [
    {
     "name": "stdin",
     "output_type": "stream",
     "text": [
      "Enter your choice (rock, paper, or scissors):  paper\n"
     ]
    },
    {
     "name": "stdout",
     "output_type": "stream",
     "text": [
      "Computer's choice: paper\n",
      "It's a tie!\n"
     ]
    }
   ],
   "source": [
    "#22\n",
    "import random\n",
    "\n",
    "choices = [\"rock\", \"paper\", \"scissors\"]\n",
    "\n",
    "user_choice = input(\"Enter your choice (rock, paper, or scissors): \")\n",
    "computer_choice = random.choice(choices)\n",
    "\n",
    "print(f\"Computer's choice: {computer_choice}\")\n",
    "\n",
    "if user_choice == computer_choice:\n",
    "    result = \"It's a tie!\"\n",
    "elif (user_choice == \"rock\" and computer_choice == \"scissors\") or (user_choice == \"scissors\" and computer_choice == \"paper\") or (user_choice == \"paper\" and computer_choice == \"rock\"):\n",
    "    result = \"You win!\"\n",
    "else:\n",
    "    result = \"Computer wins!\"\n",
    "\n",
    "print(result)\n"
   ]
  },
  {
   "cell_type": "code",
   "execution_count": 4,
   "id": "0e12e2d7-62ec-4fe8-8f64-e4025d10189b",
   "metadata": {},
   "outputs": [
    {
     "name": "stdin",
     "output_type": "stream",
     "text": [
      "Enter the password length:  5\n",
      "Include digits (yes/no):  43\n",
      "Include special characters (yes/no):  5\n"
     ]
    },
    {
     "name": "stdout",
     "output_type": "stream",
     "text": [
      "Generated password: cjiMn\n"
     ]
    }
   ],
   "source": [
    "#23\n",
    "import random\n",
    "import string\n",
    "\n",
    "length = int(input(\"Enter the password length: \"))\n",
    "use_digits = input(\"Include digits (yes/no): \").lower() == \"yes\"\n",
    "use_special_chars = input(\"Include special characters (yes/no): \").lower() == \"yes\"\n",
    "\n",
    "characters = string.ascii_letters\n",
    "if use_digits:\n",
    "    characters += string.digits\n",
    "if use_special_chars:\n",
    "    characters += string.punctuation\n",
    "\n",
    "password = ''.join(random.choice(characters) for _ in range(length))\n",
    "print(f\"Generated password: {password}\")\n"
   ]
  },
  {
   "cell_type": "code",
   "execution_count": 10,
   "id": "abbab873-4d1f-4f1c-8811-afe565db061d",
   "metadata": {},
   "outputs": [
    {
     "name": "stdout",
     "output_type": "stream",
     "text": [
      "Welcome to the Text-Based Adventure Game!\n",
      "\n",
      "You find yourself at a crossroads. What do you want to do?\n",
      "1. Go left into the dark forest.\n",
      "2. Go right towards the mountains.\n",
      "3. Quit the game.\n"
     ]
    },
    {
     "name": "stdin",
     "output_type": "stream",
     "text": [
      "Enter your choice (1/2/3):  2\n"
     ]
    },
    {
     "name": "stdout",
     "output_type": "stream",
     "text": [
      "\n",
      "You climb the mountain and enjoy a breathtaking view.\n",
      "You continue your adventure.\n",
      "\n",
      "You find yourself at a crossroads. What do you want to do?\n",
      "1. Go left into the dark forest.\n",
      "2. Go right towards the mountains.\n",
      "3. Quit the game.\n"
     ]
    },
    {
     "name": "stdin",
     "output_type": "stream",
     "text": [
      "Enter your choice (1/2/3):  2\n"
     ]
    },
    {
     "name": "stdout",
     "output_type": "stream",
     "text": [
      "\n",
      "You climb the mountain and enjoy a breathtaking view.\n",
      "You continue your adventure.\n",
      "\n",
      "You find yourself at a crossroads. What do you want to do?\n",
      "1. Go left into the dark forest.\n",
      "2. Go right towards the mountains.\n",
      "3. Quit the game.\n"
     ]
    },
    {
     "name": "stdin",
     "output_type": "stream",
     "text": [
      "Enter your choice (1/2/3):  3\n"
     ]
    },
    {
     "name": "stdout",
     "output_type": "stream",
     "text": [
      "Thanks for playing the Text-Based Adventure Game. Goodbye!\n"
     ]
    }
   ],
   "source": [
    "#24\n",
    "# Function to handle user choices and scenarios\n",
    "def adventure_game():\n",
    "    print(\"Welcome to the Text-Based Adventure Game!\")\n",
    "    \n",
    "    while True:\n",
    "        print(\"\\nYou find yourself at a crossroads. What do you want to do?\")\n",
    "        print(\"1. Go left into the dark forest.\")\n",
    "        print(\"2. Go right towards the mountains.\")\n",
    "        print(\"3. Quit the game.\")\n",
    "        \n",
    "        choice = input(\"Enter your choice (1/2/3): \")\n",
    "        \n",
    "        if choice == '1':\n",
    "            print(\"\\nYou enter the dark forest and discover a hidden treasure chest!\")\n",
    "            print(\"Congratulations, you win!\")\n",
    "        elif choice == '2':\n",
    "            print(\"\\nYou climb the mountain and enjoy a breathtaking view.\")\n",
    "            print(\"You continue your adventure.\")\n",
    "        elif choice == '3':\n",
    "            print(\"Thanks for playing the Text-Based Adventure Game. Goodbye!\")\n",
    "            break\n",
    "        else:\n",
    "            print(\"Invalid choice. Please select 1, 2, or 3.\")\n",
    "\n",
    "# Start the adventure game\n",
    "adventure_game()\n"
   ]
  },
  {
   "cell_type": "code",
   "execution_count": 11,
   "id": "900bccfb-70c3-4879-8181-aa12976a3340",
   "metadata": {},
   "outputs": [
    {
     "name": "stdin",
     "output_type": "stream",
     "text": [
      "Enter the coefficient 'a':  5\n",
      "Enter the coefficient 'b':  6\n"
     ]
    },
    {
     "name": "stdout",
     "output_type": "stream",
     "text": [
      "The solution is x = -1.2\n"
     ]
    }
   ],
   "source": [
    "#25\n",
    "a = float(input(\"Enter the coefficient 'a': \"))\n",
    "b = float(input(\"Enter the coefficient 'b': \"))\n",
    "\n",
    "if a == 0:\n",
    "    if b == 0:\n",
    "        result = \"Infinite solutions\"\n",
    "    else:\n",
    "        result = \"No solution\"\n",
    "else:\n",
    "    x = -b / a\n",
    "    result = f\"The solution is x = {x}\"\n",
    "\n",
    "print(result)\n"
   ]
  },
  {
   "cell_type": "code",
   "execution_count": 12,
   "id": "bd946ea7-7a8c-4e15-a0fc-746a65922049",
   "metadata": {},
   "outputs": [
    {
     "name": "stdout",
     "output_type": "stream",
     "text": [
      "What is the capital of France?\n",
      "A. London\n",
      "B. Berlin\n",
      "C. Paris\n",
      "D. Madrid\n"
     ]
    },
    {
     "name": "stdin",
     "output_type": "stream",
     "text": [
      "Enter the letter corresponding to your answer:  a\n"
     ]
    },
    {
     "name": "stdout",
     "output_type": "stream",
     "text": [
      "Wrong! The correct answer is C.\n",
      "\n",
      "Which planet is known as the Red Planet?\n",
      "A. Earth\n",
      "B. Venus\n",
      "C. Mars\n",
      "D. Jupiter\n"
     ]
    },
    {
     "name": "stdin",
     "output_type": "stream",
     "text": [
      "Enter the letter corresponding to your answer:  d\n"
     ]
    },
    {
     "name": "stdout",
     "output_type": "stream",
     "text": [
      "Wrong! The correct answer is C.\n",
      "\n",
      "What is the largest mammal in the world?\n",
      "A. Elephant\n",
      "B. Giraffe\n",
      "C. Blue Whale\n",
      "D. Dolphin\n"
     ]
    },
    {
     "name": "stdin",
     "output_type": "stream",
     "text": [
      "Enter the letter corresponding to your answer:  b\n"
     ]
    },
    {
     "name": "stdout",
     "output_type": "stream",
     "text": [
      "Wrong! The correct answer is C.\n",
      "\n",
      "Your score: 0/3\n"
     ]
    }
   ],
   "source": [
    "#26\n",
    "# Quiz questions and answers (modify as needed)\n",
    "quiz = [\n",
    "    {\n",
    "        \"question\": \"What is the capital of France?\",\n",
    "        \"options\": [\"A. London\", \"B. Berlin\", \"C. Paris\", \"D. Madrid\"],\n",
    "        \"answer\": \"C\"\n",
    "    },\n",
    "    {\n",
    "        \"question\": \"Which planet is known as the Red Planet?\",\n",
    "        \"options\": [\"A. Earth\", \"B. Venus\", \"C. Mars\", \"D. Jupiter\"],\n",
    "        \"answer\": \"C\"\n",
    "    },\n",
    "    {\n",
    "        \"question\": \"What is the largest mammal in the world?\",\n",
    "        \"options\": [\"A. Elephant\", \"B. Giraffe\", \"C. Blue Whale\", \"D. Dolphin\"],\n",
    "        \"answer\": \"C\"\n",
    "    }\n",
    "]\n",
    "\n",
    "# Initialize the score\n",
    "score = 0\n",
    "\n",
    "# Function to display and process a quiz question\n",
    "def ask_question(question_data):\n",
    "    print(question_data[\"question\"])\n",
    "    for option in question_data[\"options\"]:\n",
    "        print(option)\n",
    "    user_answer = input(\"Enter the letter corresponding to your answer: \").strip().upper()\n",
    "\n",
    "    if user_answer == question_data[\"answer\"]:\n",
    "        print(\"Correct!\\n\")\n",
    "        return 1\n",
    "    else:\n",
    "        print(f\"Wrong! The correct answer is {question_data['answer']}.\\n\")\n",
    "        return 0\n",
    "\n",
    "# Main quiz loop\n",
    "for question in quiz:\n",
    "    score += ask_question(question)\n",
    "\n",
    "# Display the final score\n",
    "print(f\"Your score: {score}/{len(quiz)}\")\n"
   ]
  },
  {
   "cell_type": "code",
   "execution_count": 13,
   "id": "9504e4be-9543-48eb-a185-c424b4d25103",
   "metadata": {},
   "outputs": [
    {
     "name": "stdin",
     "output_type": "stream",
     "text": [
      "Enter the coefficient 'a':  7\n",
      "Enter the coefficient 'b':  8\n"
     ]
    },
    {
     "name": "stdout",
     "output_type": "stream",
     "text": [
      "The solution is x = -1.1428571428571428\n"
     ]
    }
   ],
   "source": [
    "#27\n",
    "a = float(input(\"Enter the coefficient 'a': \"))\n",
    "b = float(input(\"Enter the coefficient 'b': \"))\n",
    "\n",
    "if a == 0:\n",
    "    if b == 0:\n",
    "        result = \"Infinite solutions\"\n",
    "    else:\n",
    "        result = \"No solution\"\n",
    "else:\n",
    "    x = -b / a\n",
    "    result = f\"The solution is x = {x}\"\n",
    "\n",
    "print(result)\n"
   ]
  },
  {
   "cell_type": "code",
   "execution_count": 14,
   "id": "2ecacff0-8fdd-4c1b-aaa0-3e263246781c",
   "metadata": {},
   "outputs": [
    {
     "name": "stdin",
     "output_type": "stream",
     "text": [
      "Enter the first number:  7\n",
      "Enter the second number:  8\n",
      "Enter the third number:  8\n"
     ]
    },
    {
     "name": "stdout",
     "output_type": "stream",
     "text": [
      "Numbers in ascending order: [7.0, 8.0, 8.0]\n"
     ]
    }
   ],
   "source": [
    "#28\n",
    "num1 = float(input(\"Enter the first number: \"))\n",
    "num2 = float(input(\"Enter the second number: \"))\n",
    "num3 = float(input(\"Enter the third number: \"))\n",
    "\n",
    "if num1 <= num2 <= num3:\n",
    "    sorted_numbers = [num1, num2, num3]\n",
    "elif num1 <= num3 <= num2:\n",
    "    sorted_numbers = [num1, num3, num2]\n",
    "elif num2 <= num1 <= num3:\n",
    "    sorted_numbers = [num2, num1, num3]\n",
    "elif num2 <= num3 <= num1:\n",
    "    sorted_numbers = [num2, num3, num1]\n",
    "elif num3 <= num1 <= num2:\n",
    "    sorted_numbers = [num3, num1, num2]\n",
    "else:\n",
    "    sorted_numbers = [num3, num2, num1]\n",
    "\n",
    "print(f\"Numbers in ascending order: {sorted_numbers}\")\n"
   ]
  },
  {
   "cell_type": "code",
   "execution_count": 15,
   "id": "720ce055-2e19-46ba-9cb6-0892882782d6",
   "metadata": {},
   "outputs": [
    {
     "name": "stdin",
     "output_type": "stream",
     "text": [
      "Enter coefficient 'a':  7\n",
      "Enter coefficient 'b':  8\n",
      "Enter coefficient 'c':  9\n",
      "Enter coefficient 'd':  8\n",
      "Enter coefficient 'e':  9\n",
      "Enter an initial guess:  89\n"
     ]
    },
    {
     "name": "stdout",
     "output_type": "stream",
     "text": [
      "Root not found within the specified number of iterations.\n"
     ]
    }
   ],
   "source": [
    "#29\n",
    "# Function to evaluate the quartic equation\n",
    "def quartic_equation(x, a, b, c, d, e):\n",
    "    return a * x**4 + b * x**3 + c * x**2 + d * x + e\n",
    "\n",
    "# Function to evaluate the derivative of the quartic equation\n",
    "def quartic_derivative(x, a, b, c, d):\n",
    "    return 4 * a * x**3 + 3 * b * x**2 + 2 * c * x + d\n",
    "\n",
    "# Function to approximate the root using the Newton-Raphson method\n",
    "def newton_raphson_quartic(a, b, c, d, e, x0, max_iterations=100, tolerance=1e-6):\n",
    "    x = x0\n",
    "    for i in range(max_iterations):\n",
    "        f_x = quartic_equation(x, a, b, c, d, e)\n",
    "        if abs(f_x) < tolerance:\n",
    "            return x\n",
    "        f_prime_x = quartic_derivative(x, a, b, c, d)\n",
    "        x = x - f_x / f_prime_x\n",
    "    return None  # Root not found within the specified number of iterations\n",
    "\n",
    "# Input coefficients of the quartic equation\n",
    "a = float(input(\"Enter coefficient 'a': \"))\n",
    "b = float(input(\"Enter coefficient 'b': \"))\n",
    "c = float(input(\"Enter coefficient 'c': \"))\n",
    "d = float(input(\"Enter coefficient 'd': \"))\n",
    "e = float(input(\"Enter coefficient 'e': \"))\n",
    "\n",
    "# Initial guess for the root\n",
    "initial_guess = float(input(\"Enter an initial guess: \"))\n",
    "\n",
    "# Find and print the root using the Newton-Raphson method\n",
    "root = newton_raphson_quartic(a, b, c, d, e, initial_guess)\n",
    "if root is not None:\n",
    "    print(f\"The approximate root is {root:.6f}\")\n",
    "else:\n",
    "    print(\"Root not found within the specified number of iterations.\")\n"
   ]
  },
  {
   "cell_type": "code",
   "execution_count": 17,
   "id": "0c18ec34-a1c7-4ecc-b630-c58d52124222",
   "metadata": {},
   "outputs": [
    {
     "name": "stdin",
     "output_type": "stream",
     "text": [
      "Enter your weight in kilograms:  9\n",
      "Enter your height in meters:  9\n"
     ]
    },
    {
     "name": "stdout",
     "output_type": "stream",
     "text": [
      "Your BMI is 0.11\n",
      "You are underweight. Consider gaining some weight.\n"
     ]
    }
   ],
   "source": [
    "#30\n",
    "weight = float(input(\"Enter your weight in kilograms: \"))\n",
    "height = float(input(\"Enter your height in meters: \"))\n",
    "\n",
    "bmi = weight / (height ** 2)\n",
    "print(f\"Your BMI is {bmi:.2f}\")\n",
    "\n",
    "if bmi < 18.5:\n",
    "    print(\"You are underweight. Consider gaining some weight.\")\n",
    "elif 18.5 <= bmi < 24.9:\n",
    "    print(\"Your weight is normal. Keep it up!\")\n",
    "elif 25 <= bmi < 29.9:\n",
    "    print(\"You are overweight. Consider losing some weight for better health.\")\n",
    "else:\n",
    "    print(\"You are obese. It's important to consult a healthcare professional for guidance.\")\n"
   ]
  },
  {
   "cell_type": "code",
   "execution_count": 3,
   "id": "de4f71ae-1c8d-406c-82cf-9f69f9d47198",
   "metadata": {},
   "outputs": [
    {
     "name": "stdin",
     "output_type": "stream",
     "text": [
      "Enter a password:  fdfhfh\n"
     ]
    },
    {
     "name": "stdout",
     "output_type": "stream",
     "text": [
      "Invalid password\n"
     ]
    }
   ],
   "source": [
    "#31\n",
    "def is_valid_password(password):\n",
    "    # Minimum length requirement\n",
    "    if len(password) < 8:\n",
    "        return False\n",
    "\n",
    "\n",
    "    has_uppercase = False\n",
    "    has_lowercase = False\n",
    "    has_digit = False\n",
    "    has_special = False\n",
    "\n",
    "    \n",
    "    special_characters = \"@#$%^&+=\"\n",
    "\n",
    "    for char in password:\n",
    "        if char.isupper():\n",
    "            has_uppercase = True\n",
    "        elif char.islower():\n",
    "            has_lowercase = True\n",
    "        elif char.isdigit():\n",
    "            has_digit = True\n",
    "        elif char in special_characters:\n",
    "            has_special = True\n",
    "\n",
    "    \n",
    "    return has_uppercase and has_lowercase and has_digit and has_special\n",
    "\n",
    "password = input(\"Enter a password: \")\n",
    "if is_valid_password(password):\n",
    "    print(\"Valid password\")\n",
    "else:\n",
    "    print(\"Invalid password\")\n"
   ]
  },
  {
   "cell_type": "code",
   "execution_count": 4,
   "id": "d2cf9898-3511-45d9-b532-108109f7dfa4",
   "metadata": {},
   "outputs": [
    {
     "name": "stdout",
     "output_type": "stream",
     "text": [
      "Matrix Addition:\n",
      "[10, 10, 10]\n",
      "[10, 10, 10]\n",
      "[10, 10, 10]\n",
      "Matrix Subtraction:\n",
      "[-8, -6, -4]\n",
      "[-2, 0, 2]\n",
      "[4, 6, 8]\n"
     ]
    }
   ],
   "source": [
    "#32\n",
    "def add_matrices(matrix1, matrix2):\n",
    "    result = []\n",
    "    for i in range(len(matrix1)):\n",
    "        row = [matrix1[i][j] + matrix2[i][j] for j in range(len(matrix1[i]))]\n",
    "        result.append(row)\n",
    "    return result\n",
    "\n",
    "def subtract_matrices(matrix1, matrix2):\n",
    "    result = []\n",
    "    for i in range(len(matrix1)):\n",
    "        row = [matrix1[i][j] - matrix2[i][j] for j in range(len(matrix1[i]))]\n",
    "        result.append(row)\n",
    "    return result\n",
    "\n",
    "matrix1 = [[1, 2, 3], [4, 5, 6], [7, 8, 9]]\n",
    "matrix2 = [[9, 8, 7], [6, 5, 4], [3, 2, 1]]\n",
    "\n",
    "print(\"Matrix Addition:\")\n",
    "result_add = add_matrices(matrix1, matrix2)\n",
    "for row in result_add:\n",
    "    print(row)\n",
    "\n",
    "print(\"Matrix Subtraction:\")\n",
    "result_subtract = subtract_matrices(matrix1, matrix2)\n",
    "for row in result_subtract:\n",
    "    print(row)\n"
   ]
  },
  {
   "cell_type": "code",
   "execution_count": 5,
   "id": "447a6ed5-c0ce-48df-9474-21228b6fd396",
   "metadata": {},
   "outputs": [
    {
     "name": "stdin",
     "output_type": "stream",
     "text": [
      "Enter the first number:  66\n",
      "Enter the second number:  99\n"
     ]
    },
    {
     "name": "stdout",
     "output_type": "stream",
     "text": [
      "GCD: 33\n"
     ]
    }
   ],
   "source": [
    "#33\n",
    "def gcd(a, b):\n",
    "    while b:\n",
    "        a, b = b, a % b\n",
    "    return a\n",
    "\n",
    "num1 = int(input(\"Enter the first number: \"))\n",
    "num2 = int(input(\"Enter the second number: \"))\n",
    "result = gcd(num1, num2)\n",
    "print(\"GCD:\", result)\n"
   ]
  },
  {
   "cell_type": "code",
   "execution_count": 7,
   "id": "208fab11-e0f0-4904-ad70-5524fa8f5ce2",
   "metadata": {},
   "outputs": [
    {
     "name": "stdout",
     "output_type": "stream",
     "text": [
      "[19, 22]\n",
      "[43, 50]\n"
     ]
    }
   ],
   "source": [
    "#34\n",
    "def multiply_matrices(matrix1, matrix2):\n",
    "    result = []\n",
    "    for i in range(len(matrix1)):\n",
    "        row = []\n",
    "        for j in range(len(matrix2[0])):\n",
    "            sum = 0\n",
    "            for k in range(len(matrix2)):\n",
    "                sum += matrix1[i][k] * matrix2[k][j]\n",
    "            row.append(sum)\n",
    "        result.append(row)\n",
    "    return result\n",
    "\n",
    "matrix1 = [[1, 2], [3, 4]]\n",
    "matrix2 = [[5, 6], [7, 8]]\n",
    "\n",
    "result_multiply = multiply_matrices(matrix1, matrix2)\n",
    "\n",
    "for row in result_multiply:\n",
    "    print(row)\n"
   ]
  },
  {
   "cell_type": "code",
   "execution_count": 8,
   "id": "6b62cd6e-7701-45a0-ab20-b36bc79f019a",
   "metadata": {},
   "outputs": [
    {
     "name": "stdout",
     "output_type": "stream",
     "text": [
      "  |   |  \n",
      "---------\n",
      "  |   |  \n",
      "---------\n",
      "  |   |  \n",
      "---------\n"
     ]
    },
    {
     "name": "stdin",
     "output_type": "stream",
     "text": [
      "Enter your move (1-9):  5\n"
     ]
    },
    {
     "name": "stdout",
     "output_type": "stream",
     "text": [
      "  |   |  \n",
      "---------\n",
      "  | X |  \n",
      "---------\n",
      "  |   |  \n",
      "---------\n",
      "Computer's turn:\n",
      "  |   |  \n",
      "---------\n",
      "  | X |  \n",
      "---------\n",
      "O |   |  \n",
      "---------\n"
     ]
    },
    {
     "name": "stdin",
     "output_type": "stream",
     "text": [
      "Enter your move (1-9):  1\n"
     ]
    },
    {
     "name": "stdout",
     "output_type": "stream",
     "text": [
      "X |   |  \n",
      "---------\n",
      "  | X |  \n",
      "---------\n",
      "O |   |  \n",
      "---------\n",
      "Computer's turn:\n",
      "X |   |  \n",
      "---------\n",
      "  | X |  \n",
      "---------\n",
      "O | O |  \n",
      "---------\n"
     ]
    },
    {
     "name": "stdin",
     "output_type": "stream",
     "text": [
      "Enter your move (1-9):  9\n"
     ]
    },
    {
     "name": "stdout",
     "output_type": "stream",
     "text": [
      "X |   |  \n",
      "---------\n",
      "  | X |  \n",
      "---------\n",
      "O | O | X\n",
      "---------\n",
      "You win! Congratulations!\n"
     ]
    }
   ],
   "source": [
    "#35\n",
    "import random\n",
    "\n",
    "def print_board(board):\n",
    "    for row in board:\n",
    "        print(\" | \".join(row))\n",
    "        print(\"-\" * 9)\n",
    "\n",
    "def is_winner(board, player):\n",
    "    for row in board:\n",
    "        if all(cell == player for cell in row):\n",
    "            return True\n",
    "\n",
    "    for col in range(3):\n",
    "        if all(board[row][col] == player for row in range(3)):\n",
    "            return True\n",
    "\n",
    "    if all(board[i][i] == player for i in range(3)) or all(board[i][2 - i] == player for i in range(3)):\n",
    "        return True\n",
    "\n",
    "    return False\n",
    "\n",
    "def is_board_full(board):\n",
    "    return all(cell != ' ' for row in board for cell in row)\n",
    "\n",
    "def get_player_move(board):\n",
    "    while True:\n",
    "        try:\n",
    "            move = int(input(\"Enter your move (1-9): \"))\n",
    "            if 1 <= move <= 9:\n",
    "                row, col = divmod(move - 1, 3)\n",
    "                if board[row][col] == ' ':\n",
    "                    return row, col\n",
    "            print(\"Invalid move. Try again.\")\n",
    "        except ValueError:\n",
    "            print(\"Invalid input. Please enter a number (1-9).\")\n",
    "\n",
    "def get_computer_move(board):\n",
    "    empty_cells = [(row, col) for row in range(3) for col in range(3) if board[row][col] == ' ']\n",
    "    return random.choice(empty_cells)\n",
    "\n",
    "def play_tic_tac_toe():\n",
    "    board = [[' ' for _ in range(3)] for _ in range(3)\n",
    "    ]\n",
    "    player_turn = True  # True for player, False for computer\n",
    "    print_board(board)\n",
    "\n",
    "    while True:\n",
    "        if player_turn:\n",
    "            row, col = get_player_move(board)\n",
    "            board[row][col] = 'X'\n",
    "        else:\n",
    "            print(\"Computer's turn:\")\n",
    "            row, col = get_computer_move(board)\n",
    "            board[row][col] = 'O'\n",
    "\n",
    "        print_board(board)\n",
    "\n",
    "        if is_winner(board, 'X'):\n",
    "            print(\"You win! Congratulations!\")\n",
    "            break\n",
    "        if is_winner(board, 'O'):\n",
    "            print(\"Computer wins! Better luck next time.\")\n",
    "            break\n",
    "        if is_board_full(board):\n",
    "            print(\"It's a tie!\")\n",
    "            break\n",
    "\n",
    "        player_turn = not player_turn\n",
    "\n",
    "if __name__ == \"__main__\":\n",
    "    play_tic_tac_toe()\n"
   ]
  },
  {
   "cell_type": "code",
   "execution_count": 23,
   "id": "ea80d0a8-d363-409e-a3e0-1f8555a4a577",
   "metadata": {},
   "outputs": [
    {
     "name": "stdin",
     "output_type": "stream",
     "text": [
      "Enter the number of Fibonacci terms to generate:  5\n"
     ]
    },
    {
     "name": "stdout",
     "output_type": "stream",
     "text": [
      "[0, 1, 1, 2, 3]\n"
     ]
    }
   ],
   "source": [
    "#36\n",
    "def generate_fibonacci(n):\n",
    "    fib_sequence = [0, 1]\n",
    "    while len(fib_sequence) < n:\n",
    "        next_fib = fib_sequence[-1] + fib_sequence[-2]\n",
    "        fib_sequence.append(next_fib)\n",
    "    return fib_sequence\n",
    "\n",
    "n = int(input(\"Enter the number of Fibonacci terms to generate: \"))\n",
    "fibonacci_sequence = generate_fibonacci(n)\n",
    "print(fibonacci_sequence)"
   ]
  },
  {
   "cell_type": "code",
   "execution_count": 22,
   "id": "ddff214f-6e00-4c74-9f71-06d2677b8c5e",
   "metadata": {},
   "outputs": [
    {
     "name": "stdin",
     "output_type": "stream",
     "text": [
      "Enter the term of the Fibonacci sequence to calculate:  6\n"
     ]
    },
    {
     "name": "stdout",
     "output_type": "stream",
     "text": [
      "Fibonacci term 6 is 8\n"
     ]
    }
   ],
   "source": [
    "#37\n",
    "def fibonacci(n, memo={}):\n",
    "    if n in memo:\n",
    "        return memo[n]\n",
    "    if n <= 2:\n",
    "        return 1\n",
    "    memo[n] = fibonacci(n - 1, memo) + fibonacci(n - 2, memo)\n",
    "    return memo[n]\n",
    "\n",
    "n = int(input(\"Enter the term of the Fibonacci sequence to calculate: \"))\n",
    "result = fibonacci(n)\n",
    "print(\"Fibonacci term\", n, \"is\", result)\n"
   ]
  },
  {
   "cell_type": "code",
   "execution_count": 25,
   "id": "9b31a644-6265-48cd-9888-bf3b45bdc62f",
   "metadata": {},
   "outputs": [
    {
     "name": "stdin",
     "output_type": "stream",
     "text": [
      "Enter year:  2002\n",
      "Enter month:  08\n"
     ]
    },
    {
     "name": "stdout",
     "output_type": "stream",
     "text": [
      "Calendar:\n",
      "    August 2002\n",
      "Mo Tu We Th Fr Sa Su\n",
      "          1  2  3  4\n",
      " 5  6  7  8  9 10 11\n",
      "12 13 14 15 16 17 18\n",
      "19 20 21 22 23 24 25\n",
      "26 27 28 29 30 31\n",
      "\n"
     ]
    }
   ],
   "source": [
    "#38\n",
    "import calendar\n",
    "\n",
    "year = int(input(\"Enter year: \"))\n",
    "month = int(input(\"Enter month: \"))\n",
    "\n",
    "cal = calendar.month(year, month)\n",
    "print(\"Calendar:\")\n",
    "print(cal)\n"
   ]
  },
  {
   "cell_type": "code",
   "execution_count": 26,
   "id": "fa4d787c-8ebd-4887-8016-994058e62a1a",
   "metadata": {},
   "outputs": [
    {
     "name": "stdout",
     "output_type": "stream",
     "text": [
      "Welcome to Blackjack!\n",
      "\n",
      "Your hand:\n",
      "Three of Hearts\n",
      "Six of Clubs\n",
      "Total value: 9\n"
     ]
    },
    {
     "name": "stdin",
     "output_type": "stream",
     "text": [
      "Do you want to 'hit' or 'stand'?  hit\n"
     ]
    },
    {
     "name": "stdout",
     "output_type": "stream",
     "text": [
      "\n",
      "Your hand:\n",
      "Three of Hearts\n",
      "Six of Clubs\n",
      "Five of Diamonds\n",
      "Total value: 14\n"
     ]
    },
    {
     "name": "stdin",
     "output_type": "stream",
     "text": [
      "Do you want to 'hit' or 'stand'?  stand\n"
     ]
    },
    {
     "name": "stdout",
     "output_type": "stream",
     "text": [
      "\n",
      "Computer's hand:\n",
      "Queen of Diamonds\n",
      "Four of Clubs\n",
      "Four of Spades\n",
      "Total value: 18\n",
      "Computer wins!\n"
     ]
    }
   ],
   "source": [
    "#39\n",
    "import random\n",
    "\n",
    "# Define the deck of cards\n",
    "suits = [\"Hearts\", \"Diamonds\", \"Clubs\", \"Spades\"]\n",
    "ranks = [\"Two\", \"Three\", \"Four\", \"Five\", \"Six\", \"Seven\", \"Eight\", \"Nine\", \"Ten\", \"Jack\", \"Queen\", \"King\", \"Ace\"]\n",
    "values = [2, 3, 4, 5, 6, 7, 8, 9, 10, 10, 10, 10, 11]\n",
    "\n",
    "class Card:\n",
    "    def __init__(self, suit, rank):\n",
    "        self.suit = suit\n",
    "        self.rank = rank\n",
    "        self.value = values[ranks.index(rank)]\n",
    "\n",
    "    def __str__(self):\n",
    "        return f\"{self.rank} of {self.suit}\"\n",
    "\n",
    "class Deck:\n",
    "    def __init__(self):\n",
    "        self.deck = [Card(suit, rank) for suit in suits for rank in ranks]\n",
    "        random.shuffle(self.deck)\n",
    "\n",
    "    def deal(self):\n",
    "        return self.deck.pop()\n",
    "\n",
    "def calculate_hand_value(hand):\n",
    "    value = sum(card.value for card in hand)\n",
    "    num_aces = [card.rank for card in hand].count(\"Ace\")\n",
    "    while value > 21 and num_aces > 0:\n",
    "        value -= 10\n",
    "        num_aces -= 1\n",
    "    return value\n",
    "\n",
    "def blackjack():\n",
    "    player_hand = [Deck().deal(), Deck().deal()]\n",
    "    computer_hand = [Deck().deal(), Deck().deal()]\n",
    "\n",
    "    print(\"Welcome to Blackjack!\")\n",
    "\n",
    "    while True:\n",
    "        player_value = calculate_hand_value(player_hand)\n",
    "        print(\"\\nYour hand:\")\n",
    "        for card in player_hand:\n",
    "            print(card)\n",
    "        print(f\"Total value: {player_value}\")\n",
    "\n",
    "        if player_value == 21:\n",
    "            print(\"Blackjack! You win!\")\n",
    "            break\n",
    "        elif player_value > 21:\n",
    "            print(\"Bust! You lose!\")\n",
    "            break\n",
    "\n",
    "        choice = input(\"Do you want to 'hit' or 'stand'? \").lower()\n",
    "        if choice == \"hit\":\n",
    "            player_hand.append(Deck().deal())\n",
    "        elif choice == \"stand\":\n",
    "            while calculate_hand_value(computer_hand) < 17:\n",
    "                computer_hand.append(Deck().deal())\n",
    "\n",
    "            print(\"\\nComputer's hand:\")\n",
    "            for card in computer_hand:\n",
    "                print(card)\n",
    "            computer_value = calculate_hand_value(computer_hand)\n",
    "            print(f\"Total value: {computer_value}\")\n",
    "\n",
    "            if computer_value > 21:\n",
    "                print(\"Computer busts! You win!\")\n",
    "            elif computer_value == player_value:\n",
    "                print(\"It's a tie!\")\n",
    "            elif computer_value > player_value:\n",
    "                print(\"Computer wins!\")\n",
    "            else:\n",
    "                print(\"You win!\")\n",
    "\n",
    "            break\n",
    "        else:\n",
    "            print(\"Invalid choice. Please enter 'hit' or 'stand'.\")\n",
    "\n",
    "if __name__ == \"__main__\":\n",
    "    blackjack()\n"
   ]
  },
  {
   "cell_type": "code",
   "execution_count": 27,
   "id": "abac3c61-a429-4477-90a8-55bd0dedc9d6",
   "metadata": {},
   "outputs": [
    {
     "name": "stdin",
     "output_type": "stream",
     "text": [
      "Enter a number to find its prime factors:  8\n"
     ]
    },
    {
     "name": "stdout",
     "output_type": "stream",
     "text": [
      "Prime factors: [2, 2, 2]\n"
     ]
    }
   ],
   "source": [
    "#40\n",
    "def prime_factors(n):\n",
    "    factors = []\n",
    "    divisor = 2\n",
    "    while divisor <= n:\n",
    "        if n % divisor == 0:\n",
    "            factors.append(divisor)\n",
    "            n /= divisor\n",
    "        else:\n",
    "            divisor += 1\n",
    "    return factors\n",
    "\n",
    "num = int(input(\"Enter a number to find its prime factors: \"))\n",
    "factors = prime_factors(num)\n",
    "print(\"Prime factors:\", factors)\n"
   ]
  }
 ],
 "metadata": {
  "kernelspec": {
   "display_name": "Python 3 (ipykernel)",
   "language": "python",
   "name": "python3"
  },
  "language_info": {
   "codemirror_mode": {
    "name": "ipython",
    "version": 3
   },
   "file_extension": ".py",
   "mimetype": "text/x-python",
   "name": "python",
   "nbconvert_exporter": "python",
   "pygments_lexer": "ipython3",
   "version": "3.10.8"
  }
 },
 "nbformat": 4,
 "nbformat_minor": 5
}
